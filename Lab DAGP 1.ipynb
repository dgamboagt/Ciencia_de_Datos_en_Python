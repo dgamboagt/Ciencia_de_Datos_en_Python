{
 "cells": [
  {
   "cell_type": "markdown",
   "id": "e98f02aa-709d-4a92-b8e5-28666d5a243c",
   "metadata": {},
   "source": [
    "[Laboratorio #1]\n",
    "[23001913– Dayana Alejandra Gamboa Palacios]\n",
    "[dagamboagt@gmail.com]\n",
    "[POSTGRADO EN INTELIGENCIA DE NEGOCIOS]\n",
    "[Universidad Galileo] texto en negrita\n"
   ]
  },
  {
   "cell_type": "markdown",
   "id": "d9e52f6d-dd58-48fe-b81e-bfb92a70159d",
   "metadata": {
    "tags": []
   },
   "source": [
    "• Qué es git\n",
    "Sistema de control de versiones, esto quiere decir que guarda diferentes archivos o versiones a lo largo de las diferentes etapas de un proyecto. Git cuenta con código abierto desarrollado por Linus Torvalds, también creado r del kernel del sistema operativo de Linux en el 2005. Git cuenta con una arquitectura distribuida, diseñada para contar con el rendimiento, la seguridad y flexibilidad.\n",
    "\n",
    "• Qué es github\n",
    "Plataforma para crear proyectos abiertos de herramientas y aplicaciones, busca generar opciones colaborativas y código abierto que puede ser de consulta para cualquier usuario. Además, permite usar la moderación de comentarios para mantener a todos informados en la tarea. La diferencia entre git y github es que este último facilita a la colaboración con git, es una plataforma que puede mantener repositorio de código en almacenamiento basado en la nube.\n",
    "Acciones importantes en github:\n",
    "1.\tBifuración: Tomar código de otro usuario en un repositorio con el fin de adaptarlo según tus necesidades.\n",
    "2.\tPull: modificación del código de otro usuario y enviar esos cambios de vuelta al repositorio original a través de una solicitud de pull.\n",
    "3.\tFusión: integrar nuevos cambios en un proyecto desde una solicitud de pull, y reconocer a otros contribuyentes por sus sugerencias.\n",
    "\n",
    "MagicCells\n",
    "Funcionalidad que permite limpiar datos de alta dimensionalidad por medio del algoritmo Markov Affinity-Base Graph Imputation of Cells (conocido como MAGIC) principalmente aplicado en datos de secuenciación de ARN. MAGIC aprende la estructura de los datos utilizando un grafo resultante para suavizar las características y restaurar la estructura de los datos.\n"
   ]
  },
  {
   "cell_type": "markdown",
   "id": "48bc8264-9afa-439b-9e44-21d60d706699",
   "metadata": {},
   "source": [
    "Repositorio:\n",
    "https://github.com/dgamboagt/Ciencia_de_Datos_en_Python.git\n"
   ]
  }
 ],
 "metadata": {
  "kernelspec": {
   "display_name": "Python 3 (ipykernel)",
   "language": "python",
   "name": "python3"
  },
  "language_info": {
   "codemirror_mode": {
    "name": "ipython",
    "version": 3
   },
   "file_extension": ".py",
   "mimetype": "text/x-python",
   "name": "python",
   "nbconvert_exporter": "python",
   "pygments_lexer": "ipython3",
   "version": "3.11.5"
  }
 },
 "nbformat": 4,
 "nbformat_minor": 5
}
